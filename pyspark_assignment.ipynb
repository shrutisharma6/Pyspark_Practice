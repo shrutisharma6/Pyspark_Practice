{
 "cells": [
  {
   "cell_type": "code",
   "execution_count": 1,
   "id": "03665ced-668d-4f58-a7d1-7a789573aade",
   "metadata": {},
   "outputs": [],
   "source": [
    "from pyspark.sql import SparkSession"
   ]
  },
  {
   "cell_type": "code",
   "execution_count": 2,
   "id": "8c201fc1-6edc-4e69-a97b-4e4c23635264",
   "metadata": {},
   "outputs": [
    {
     "data": {
      "text/html": [
       "\n",
       "            <div>\n",
       "                <p><b>SparkSession - in-memory</b></p>\n",
       "                \n",
       "        <div>\n",
       "            <p><b>SparkContext</b></p>\n",
       "\n",
       "            <p><a href=\"http://ShrutiSharma:4040\">Spark UI</a></p>\n",
       "\n",
       "            <dl>\n",
       "              <dt>Version</dt>\n",
       "                <dd><code>v3.5.1</code></dd>\n",
       "              <dt>Master</dt>\n",
       "                <dd><code>local[*]</code></dd>\n",
       "              <dt>AppName</dt>\n",
       "                <dd><code>pyspark-shell</code></dd>\n",
       "            </dl>\n",
       "        </div>\n",
       "        \n",
       "            </div>\n",
       "        "
      ],
      "text/plain": [
       "<pyspark.sql.session.SparkSession at 0x242ccf0b9d0>"
      ]
     },
     "execution_count": 2,
     "metadata": {},
     "output_type": "execute_result"
    }
   ],
   "source": [
    "spark = SparkSession.builder.getOrCreate()\n",
    "spark"
   ]
  },
  {
   "cell_type": "code",
   "execution_count": 5,
   "id": "42a92a65-122e-433e-b51c-82d9d26018c0",
   "metadata": {},
   "outputs": [
    {
     "name": "stdout",
     "output_type": "stream",
     "text": [
      "== Parsed Logical Plan ==\n",
      "Relation [order_id#98,amount#99,profit#100,quantity#101,product_id#102] csv\n",
      "\n",
      "== Analyzed Logical Plan ==\n",
      "order_id: string, amount: double, profit: double, quantity: int, product_id: int\n",
      "Relation [order_id#98,amount#99,profit#100,quantity#101,product_id#102] csv\n",
      "\n",
      "== Optimized Logical Plan ==\n",
      "Relation [order_id#98,amount#99,profit#100,quantity#101,product_id#102] csv\n",
      "\n",
      "== Physical Plan ==\n",
      "FileScan csv [order_id#98,amount#99,profit#100,quantity#101,product_id#102] Batched: false, DataFilters: [], Format: CSV, Location: InMemoryFileIndex(1 paths)[file:/C:/Users/ShrutiSharma/Downloads/Dataset for PySpark Assignments/..., PartitionFilters: [], PushedFilters: [], ReadSchema: struct<order_id:string,amount:double,profit:double,quantity:int,product_id:int>\n",
      "\n"
     ]
    }
   ],
   "source": [
    "order_items = spark.read.csv(\"order_items.csv\",header = True, inferSchema = True)\n",
    "order_items.explain(True)"
   ]
  },
  {
   "cell_type": "code",
   "execution_count": 18,
   "id": "6252dcad-b458-4d84-abee-9f4ce899176a",
   "metadata": {},
   "outputs": [
    {
     "name": "stdout",
     "output_type": "stream",
     "text": [
      "+---+-------------+--------------+------+----------+-------------+----------+--------------------+------+\n",
      "| id| customername|         state|  city|created_on|date_of_birth|updated_on|               email|gender|\n",
      "+---+-------------+--------------+------+----------+-------------+----------+--------------------+------+\n",
      "|267|  Mala Pratap|Madhya Pradesh|Indore|2018-12-06|   1983-11-04|2018-12-06|Mala Pratap@outlo...|     f|\n",
      "| 59|      Anudeep|Madhya Pradesh|Indore|2018-08-26|   1978-09-09|2018-08-26|                NULL|  NULL|\n",
      "|273|Shakshi Sagar|      Nagaland|Kohima|2018-04-17|   1996-11-06|2019-03-27|     Sagar@gmail.com|     f|\n",
      "|116| Ekta Chauhan|Madhya Pradesh|Indore|2018-06-28|   1987-04-20|2018-06-28|Ekta Chauhan@outl...|     f|\n",
      "| 92|     Bhutekar|Madhya Pradesh|Indore|2019-01-04|   1989-10-08|2019-01-04|                NULL|  NULL|\n",
      "+---+-------------+--------------+------+----------+-------------+----------+--------------------+------+\n",
      "only showing top 5 rows\n",
      "\n"
     ]
    }
   ],
   "source": [
    "customers = spark.read.csv(\"customers.csv\",header = True, inferSchema = True)\n",
    "customers.show(5)"
   ]
  },
  {
   "cell_type": "code",
   "execution_count": 19,
   "id": "6b3d67f8-e091-4a10-937a-c7b4a143f831",
   "metadata": {},
   "outputs": [
    {
     "name": "stdout",
     "output_type": "stream",
     "text": [
      "+-------+----------+-----------+\n",
      "|     id|order_date|customer_id|\n",
      "+-------+----------+-----------+\n",
      "|B-25709|01-07-2018|          1|\n",
      "|B-26081|22-03-2019|          2|\n",
      "|B-26018|14-02-2019|          2|\n",
      "|B-25608|08-04-2018|          2|\n",
      "|B-25893|04-12-2018|          3|\n",
      "+-------+----------+-----------+\n",
      "only showing top 5 rows\n",
      "\n"
     ]
    }
   ],
   "source": [
    "orders = spark.read.csv(\"orders.csv\",header = True, inferSchema = True)\n",
    "orders.show(5)"
   ]
  },
  {
   "cell_type": "code",
   "execution_count": 20,
   "id": "91151195-5a03-4190-8996-4e78b8f3d4f4",
   "metadata": {},
   "outputs": [
    {
     "name": "stdout",
     "output_type": "stream",
     "text": [
      "+---+--------+-----------+\n",
      "| id|category|    product|\n",
      "+---+--------+-----------+\n",
      "|  1|Clothing|Hankerchief|\n",
      "|  2|Clothing|      Kurti|\n",
      "|  3|Clothing|   Leggings|\n",
      "|  4|Clothing|      Saree|\n",
      "|  5|Clothing|      Shirt|\n",
      "+---+--------+-----------+\n",
      "only showing top 5 rows\n",
      "\n"
     ]
    },
    {
     "data": {
      "text/plain": [
       "pyspark.sql.dataframe.DataFrame"
      ]
     },
     "execution_count": 20,
     "metadata": {},
     "output_type": "execute_result"
    }
   ],
   "source": [
    "product = spark.read.csv(\"product.csv\",header = True, inferSchema = True)\n",
    "product.show(5)\n",
    "type(product)"
   ]
  },
  {
   "cell_type": "code",
   "execution_count": 31,
   "id": "4391da8f-62a0-459e-b6b1-121502cfe3f4",
   "metadata": {},
   "outputs": [
    {
     "name": "stdout",
     "output_type": "stream",
     "text": [
      "== Parsed Logical Plan ==\n",
      "'Aggregate ['category], ['category, sum(profit#385) AS sum(profit)#1021]\n",
      "+- Join Inner, (id#559 = product_id#387)\n",
      "   :- Relation [id#559,category#560,product#561] csv\n",
      "   +- Relation [order_id#383,amount#384,profit#385,quantity#386,product_id#387] csv\n",
      "\n",
      "== Analyzed Logical Plan ==\n",
      "category: string, sum(profit): double\n",
      "Aggregate [category#560], [category#560, sum(profit#385) AS sum(profit)#1021]\n",
      "+- Join Inner, (id#559 = product_id#387)\n",
      "   :- Relation [id#559,category#560,product#561] csv\n",
      "   +- Relation [order_id#383,amount#384,profit#385,quantity#386,product_id#387] csv\n",
      "\n",
      "== Optimized Logical Plan ==\n",
      "Aggregate [category#560], [category#560, sum(profit#385) AS sum(profit)#1021]\n",
      "+- Project [category#560, profit#385]\n",
      "   +- Join Inner, (id#559 = product_id#387)\n",
      "      :- Project [id#559, category#560]\n",
      "      :  +- Filter isnotnull(id#559)\n",
      "      :     +- Relation [id#559,category#560,product#561] csv\n",
      "      +- Project [profit#385, product_id#387]\n",
      "         +- Filter isnotnull(product_id#387)\n",
      "            +- Relation [order_id#383,amount#384,profit#385,quantity#386,product_id#387] csv\n",
      "\n",
      "== Physical Plan ==\n",
      "AdaptiveSparkPlan isFinalPlan=false\n",
      "+- HashAggregate(keys=[category#560], functions=[sum(profit#385)], output=[category#560, sum(profit)#1021])\n",
      "   +- Exchange hashpartitioning(category#560, 200), ENSURE_REQUIREMENTS, [plan_id=2253]\n",
      "      +- HashAggregate(keys=[category#560], functions=[partial_sum(profit#385)], output=[category#560, sum#1025])\n",
      "         +- Project [category#560, profit#385]\n",
      "            +- BroadcastHashJoin [id#559], [product_id#387], Inner, BuildLeft, false\n",
      "               :- BroadcastExchange HashedRelationBroadcastMode(List(cast(input[0, int, false] as bigint)),false), [plan_id=2248]\n",
      "               :  +- Filter isnotnull(id#559)\n",
      "               :     +- FileScan csv [id#559,category#560] Batched: false, DataFilters: [isnotnull(id#559)], Format: CSV, Location: InMemoryFileIndex(1 paths)[file:/C:/Users/ShrutiSharma/Downloads/Dataset for PySpark Assignments/..., PartitionFilters: [], PushedFilters: [IsNotNull(id)], ReadSchema: struct<id:int,category:string>\n",
      "               +- Filter isnotnull(product_id#387)\n",
      "                  +- FileScan csv [profit#385,product_id#387] Batched: false, DataFilters: [isnotnull(product_id#387)], Format: CSV, Location: InMemoryFileIndex(1 paths)[file:/C:/Users/ShrutiSharma/Downloads/Dataset for PySpark Assignments/..., PartitionFilters: [], PushedFilters: [IsNotNull(product_id)], ReadSchema: struct<profit:double,product_id:int>\n",
      "\n"
     ]
    }
   ],
   "source": [
    "# 1. Find the total profit generated by each product category\n",
    "profit = product.join(order_items, product.id == order_items.product_id, \"inner\")\n",
    "# print(profit.show(5))\n",
    "total_profit = profit.groupBy(\"category\").sum(\"profit\")\n",
    "total_profit.explain(True)"
   ]
  },
  {
   "cell_type": "code",
   "execution_count": 32,
   "id": "88c7c80c-ae1f-45ca-836c-4aafa137a466",
   "metadata": {},
   "outputs": [
    {
     "name": "stdout",
     "output_type": "stream",
     "text": [
      "+-----------------+-----+\n",
      "|            state|count|\n",
      "+-----------------+-----+\n",
      "|         Nagaland|   15|\n",
      "|        Karnataka|   21|\n",
      "|       Tamil Nadu|    8|\n",
      "|   Andhra Pradesh|   15|\n",
      "|   Madhya Pradesh|  101|\n",
      "|           Punjab|   25|\n",
      "|              Goa|   14|\n",
      "| Himachal Pradesh|   14|\n",
      "|          Haryana|   14|\n",
      "|Jammu and Kashmir|   14|\n",
      "|          Gujarat|   27|\n",
      "|           Sikkim|   12|\n",
      "|            Delhi|   22|\n",
      "|        Rajasthan|   32|\n",
      "|          Kerala |   16|\n",
      "|      Maharashtra|   90|\n",
      "|      West Bengal|   22|\n",
      "|            Bihar|   16|\n",
      "|    Uttar Pradesh|   22|\n",
      "+-----------------+-----+\n",
      "\n"
     ]
    }
   ],
   "source": [
    "# 2. Find the number of orders placed by customers in each state  \n",
    "customer_orders = orders.join(customers, orders.customer_id == customers.id, \"inner\")\n",
    "# print(customer_orders.show(5))\n",
    "orders_in_each_state =  customer_orders.groupBy(\"state\").count()\n",
    "orders_in_each_state.show()"
   ]
  },
  {
   "cell_type": "code",
   "execution_count": 33,
   "id": "61c8e058-e968-472c-bdb1-f5f00b85dc3a",
   "metadata": {},
   "outputs": [
    {
     "name": "stdout",
     "output_type": "stream",
     "text": [
      "+--------------------+---+-----------+\n",
      "|        customername| id|sum(amount)|\n",
      "+--------------------+---+-----------+\n",
      "|       Kushal Sharma|148|      336.0|\n",
      "|      Vinit Katariya|392|     2139.0|\n",
      "|              Pranav|243|     1385.0|\n",
      "|        Akshay Kumar| 31|      112.0|\n",
      "|Priyanka Bagcdani...|251|     1752.0|\n",
      "|         Bhaggyasree| 85|      715.0|\n",
      "|          Inderpreet|137|       48.0|\n",
      "|             Arindam| 65|       34.0|\n",
      "|Ankita Kanwar Rat...| 53|      434.0|\n",
      "|      Reeta @ Rachna|255|       47.0|\n",
      "|      Shrimati Seema|296|     5228.0|\n",
      "|        Hemanti Aary|133|     1643.0|\n",
      "|              Shruti|322|      970.0|\n",
      "|  Atul Kumar @ Rahul| 78|     1034.0|\n",
      "|           Shrichand|321|     3828.0|\n",
      "|Reeta  And Her Do...|362|       58.0|\n",
      "|        Tanvir Ahmad|375|      934.0|\n",
      "|            Kartikay|155|      890.0|\n",
      "|           Km Dipali|108|       57.0|\n",
      "|             Swapnil|368|     3395.0|\n",
      "+--------------------+---+-----------+\n",
      "only showing top 20 rows\n",
      "\n"
     ]
    }
   ],
   "source": [
    "# 3. Calculate the total amount spent by each customer\n",
    "customer_orders = order_items.join(orders, order_items.order_id == orders.id, \"inner\")\n",
    "# print(customer_orders.show())\n",
    "total_amount_spent_by_customer = customer_orders.groupBy(\"customer_id\") .sum(\"amount\")\n",
    "total_amount_spent_by_customer = total_amount_spent_by_customer.join(customers, total_amount_spent_by_customer.customer_id == customers.id, \"inner\").select(customers[\"customername\"],customers[\"id\"],total_amount_spent_by_customer[\"sum(amount)\"])\n",
    "total_amount_spent_by_customer.show()"
   ]
  },
  {
   "cell_type": "code",
   "execution_count": 34,
   "id": "2c6539c9-c86a-4ba5-aba3-b616aa4ec5b9",
   "metadata": {},
   "outputs": [
    {
     "name": "stdout",
     "output_type": "stream",
     "text": [
      "+------------------+-------------------+\n",
      "|              city|        avg(profit)|\n",
      "+------------------+-------------------+\n",
      "|         Bangalore| 11.944444444444445|\n",
      "|           Udaipur|               67.0|\n",
      "|             Patna|  -5.17741935483871|\n",
      "|           Gangtok| 16.708333333333332|\n",
      "|           Chennai|             -88.64|\n",
      "|           Lucknow|  4.105263157894737|\n",
      "|            Mumbai|  7.908212560386473|\n",
      "|               Goa|  8.604651162790697|\n",
      "|         Ahmedabad|-14.193548387096774|\n",
      "|           Kolkata| 39.682539682539684|\n",
      "|         Allahabad|              102.7|\n",
      "|          Amritsar| 36.266666666666666|\n",
      "|             Simla| 22.620689655172413|\n",
      "|             Surat|               53.8|\n",
      "|           Kashmir|0.16326530612244897|\n",
      "|              Pune|  54.68674698795181|\n",
      "|             Delhi|  43.30864197530864|\n",
      "|        Chandigarh| 2.4225352112676055|\n",
      "|            Bhopal| 13.196969696969697|\n",
      "|Thiruvananthapuram| 41.577777777777776|\n",
      "+------------------+-------------------+\n",
      "only showing top 20 rows\n",
      "\n"
     ]
    }
   ],
   "source": [
    "# 4. Find the average profit per order for each city\n",
    "orders_customers = orders.join(customers, orders.customer_id == customers.id).select(orders[\"id\"].alias(\"order_id\"), customers[\"id\"].alias(\"customer_id\"), customers[\"city\"])\n",
    "# print(orders_customers.show())\n",
    "city_order_details = orders_customers.join(order_items, orders_customers.order_id == order_items.order_id)\n",
    "average_profit_per_order_by_city = city_order_details.groupBy(\"city\").avg(\"profit\").alias(\"average_profit_per_order\")\n",
    "average_profit_per_order_by_city.show()"
   ]
  },
  {
   "cell_type": "code",
   "execution_count": 35,
   "id": "8d7be79c-01fd-4e69-887c-41748a8d3698",
   "metadata": {},
   "outputs": [
    {
     "name": "stdout",
     "output_type": "stream",
     "text": [
      "+--------------------+---+-----------+\n",
      "|        customername| id|sum(amount)|\n",
      "+--------------------+---+-----------+\n",
      "|              Yaanvi|397|     9177.0|\n",
      "|Reeta  And Her Do...|360|     6611.0|\n",
      "|              Soumya|343|     6339.0|\n",
      "|             Harshal|129|     6026.0|\n",
      "| Smt. Pooja Urf Rani|239|     5809.0|\n",
      "+--------------------+---+-----------+\n",
      "\n"
     ]
    }
   ],
   "source": [
    "# 5. Find the top 5 customers who spent the most\n",
    "top_5_customers = total_amount_spent_by_customer.orderBy([\"sum(amount)\"],ascending = [False]).limit(5)\n",
    "top_5_customers.show()"
   ]
  },
  {
   "cell_type": "code",
   "execution_count": 26,
   "id": "3d848416-a9c7-431c-8a0f-32ae04cc333d",
   "metadata": {},
   "outputs": [
    {
     "name": "stdout",
     "output_type": "stream",
     "text": [
      "+----------------+-----------+\n",
      "|         product|sum(amount)|\n",
      "+----------------+-----------+\n",
      "|         T-shirt|     7382.0|\n",
      "|           Kurti|     3361.0|\n",
      "|          Chairs|    34222.0|\n",
      "|     Furnishings|    13484.0|\n",
      "|     Hankerchief|    14608.0|\n",
      "|       Bookcases|    56861.0|\n",
      "|           Saree|    53511.0|\n",
      "|        Leggings|     2106.0|\n",
      "|           Stole|    18546.0|\n",
      "|     Accessories|    21728.0|\n",
      "|          Phones|    46119.0|\n",
      "|        Printers|    58252.0|\n",
      "|        Trousers|    30039.0|\n",
      "|           Shirt|     7555.0|\n",
      "|          Tables|    22614.0|\n",
      "|           Skirt|     1946.0|\n",
      "|Electronic Games|    39168.0|\n",
      "+----------------+-----------+\n",
      "\n"
     ]
    }
   ],
   "source": [
    "# 6. Find the total revenue generated by each product\n",
    "total_revenue = profit.groupBy(\"product\").sum(\"amount\").show()"
   ]
  },
  {
   "cell_type": "code",
   "execution_count": 27,
   "id": "f60c5196-869b-4c94-996b-fad1d0dfa1bd",
   "metadata": {},
   "outputs": [
    {
     "name": "stdout",
     "output_type": "stream",
     "text": [
      "+-----------+-----+\n",
      "|   category|count|\n",
      "+-----------+-----+\n",
      "|Electronics|  308|\n",
      "|   Clothing|  949|\n",
      "|  Furniture|  243|\n",
      "+-----------+-----+\n",
      "\n"
     ]
    }
   ],
   "source": [
    "# 7. Find the number of orders placed in each product category\n",
    "number_of_orders_categorywise = profit.groupBy(\"category\").count()\n",
    "number_of_orders_categorywise.show()"
   ]
  },
  {
   "cell_type": "code",
   "execution_count": 28,
   "id": "6e9b1014-60f0-402f-b674-b77c2c475e0d",
   "metadata": {},
   "outputs": [
    {
     "name": "stdout",
     "output_type": "stream",
     "text": [
      "+-----------+-----------------+\n",
      "|   category|      avg(profit)|\n",
      "+-----------+-----------------+\n",
      "|Electronics|34.07142857142857|\n",
      "|   Clothing|11.76290832455216|\n",
      "|  Furniture| 9.45679012345679|\n",
      "+-----------+-----------------+\n",
      "\n"
     ]
    }
   ],
   "source": [
    "# 8. Calculate the average profit per order for each product category\n",
    "avg_profit = profit.groupBy(\"category\").avg(\"profit\")\n",
    "avg_profit.show()"
   ]
  },
  {
   "cell_type": "code",
   "execution_count": 29,
   "id": "d4a17e94-67a7-41f8-8cd0-ee5b6194e251",
   "metadata": {},
   "outputs": [
    {
     "name": "stdout",
     "output_type": "stream",
     "text": [
      "+------------------+-----------+\n",
      "|              city|sum(amount)|\n",
      "+------------------+-----------+\n",
      "|         Bangalore|    15058.0|\n",
      "|           Udaipur|    11073.0|\n",
      "|             Patna|    12943.0|\n",
      "|           Gangtok|     5276.0|\n",
      "|           Chennai|     6087.0|\n",
      "|           Lucknow|     5502.0|\n",
      "|            Mumbai|    61867.0|\n",
      "|               Goa|     6705.0|\n",
      "|         Ahmedabad|    14230.0|\n",
      "|           Kolkata|    14086.0|\n",
      "|         Allahabad|    16857.0|\n",
      "|          Amritsar|     4507.0|\n",
      "|             Simla|     8666.0|\n",
      "|             Surat|     6828.0|\n",
      "|           Kashmir|    10829.0|\n",
      "|              Pune|    33481.0|\n",
      "|             Delhi|    25019.0|\n",
      "|        Chandigarh|    21142.0|\n",
      "|            Bhopal|    23583.0|\n",
      "|Thiruvananthapuram|    13459.0|\n",
      "+------------------+-----------+\n",
      "only showing top 20 rows\n",
      "\n"
     ]
    }
   ],
   "source": [
    "# 9. Find the total amount spent in each city.\n",
    "amount_in_each_city = city_order_details.groupBy(\"city\").sum(\"amount\")\n",
    "amount_in_each_city.show()"
   ]
  },
  {
   "cell_type": "code",
   "execution_count": 30,
   "id": "c33e3ed0-b061-42a0-a15f-ac5182570793",
   "metadata": {},
   "outputs": [
    {
     "name": "stdout",
     "output_type": "stream",
     "text": [
      "+----------------+-----+\n",
      "|         product|count|\n",
      "+----------------+-----+\n",
      "|         T-shirt|   77|\n",
      "|           Kurti|   47|\n",
      "|          Chairs|   74|\n",
      "|     Furnishings|   73|\n",
      "|     Hankerchief|  198|\n",
      "|       Bookcases|   79|\n",
      "|           Saree|  210|\n",
      "|        Leggings|   53|\n",
      "|           Stole|  192|\n",
      "|     Accessories|   72|\n",
      "|          Phones|   83|\n",
      "|        Printers|   74|\n",
      "|        Trousers|   39|\n",
      "|           Shirt|   69|\n",
      "|          Tables|   17|\n",
      "|           Skirt|   64|\n",
      "|Electronic Games|   79|\n",
      "+----------------+-----+\n",
      "\n"
     ]
    }
   ],
   "source": [
    "# 10. Find the number of orders placed for each product. \n",
    "number_of_orders = profit.groupBy(\"product\").count()\n",
    "number_of_orders.show()"
   ]
  },
  {
   "cell_type": "code",
   "execution_count": null,
   "id": "744aa517-5488-412f-bccf-813b72dfffd3",
   "metadata": {},
   "outputs": [],
   "source": []
  },
  {
   "cell_type": "code",
   "execution_count": null,
   "id": "fc61a98f-ad8e-4325-997a-1a4cef6cef5f",
   "metadata": {},
   "outputs": [],
   "source": []
  }
 ],
 "metadata": {
  "kernelspec": {
   "display_name": "Python 3 (ipykernel)",
   "language": "python",
   "name": "python3"
  },
  "language_info": {
   "codemirror_mode": {
    "name": "ipython",
    "version": 3
   },
   "file_extension": ".py",
   "mimetype": "text/x-python",
   "name": "python",
   "nbconvert_exporter": "python",
   "pygments_lexer": "ipython3",
   "version": "3.11.7"
  }
 },
 "nbformat": 4,
 "nbformat_minor": 5
}
